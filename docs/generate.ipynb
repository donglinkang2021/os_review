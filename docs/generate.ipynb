{
 "cells": [
  {
   "cell_type": "markdown",
   "metadata": {},
   "source": [
    "# 生成本文档目录"
   ]
  },
  {
   "cell_type": "code",
   "execution_count": null,
   "metadata": {},
   "outputs": [],
   "source": [
    "text = \"\"\"- 第1章 操作系统概论\\n- 第2-3章 进程管理\\n- 第4章 存储器管理\\n- 第5章 文件系统\\n- 第6章 设备管理\\n- 第7章 Linux进程管理\\n- 第8章 Linux存储器管理\\n- 第9-10章 Linux文件系统\\n- 第14章 Windows2000/XP模型\\n- 第15章 Windows进程和线程管理\\n- 第16章 Windows存储器管理\\n- 第17章 Windows文件系统\"\"\""
   ]
  },
  {
   "cell_type": "code",
   "execution_count": 3,
   "metadata": {},
   "outputs": [],
   "source": [
    "for line in text.split('\\n'):\n",
    "    _, chapter, chapter_name = line.split(' ')\n",
    "    with open(f'{chapter}.md', 'w', encoding=\"utf-8\") as f:\n",
    "        f.write(f'---\\nlayout: default\\ntitle: {chapter_name}\\nnav_order: {chapter}\\n---\\n\\n')\n",
    "        f.write(f'# {chapter} {chapter_name}\\n\\n')"
   ]
  },
  {
   "cell_type": "code",
   "execution_count": 4,
   "metadata": {},
   "outputs": [],
   "source": [
    "with open('index.md', 'w', encoding=\"utf-8\") as f:\n",
    "    f.write(f'---\\nlayout: default\\ntitle: 目录\\nnav_order: 0\\n---\\n\\n')\n",
    "    f.write(f'# 目录\\n\\n')\n",
    "    for line in text.split('\\n'):\n",
    "        _, chapter, chapter_name = line.split(' ')\n",
    "        f.write(f'- [{chapter} {chapter_name}](./{chapter}.md)\\n')"
   ]
  }
 ],
 "metadata": {
  "kernelspec": {
   "display_name": "base",
   "language": "python",
   "name": "python3"
  },
  "language_info": {
   "codemirror_mode": {
    "name": "ipython",
    "version": 3
   },
   "file_extension": ".py",
   "mimetype": "text/x-python",
   "name": "python",
   "nbconvert_exporter": "python",
   "pygments_lexer": "ipython3",
   "version": "3.11.5"
  }
 },
 "nbformat": 4,
 "nbformat_minor": 2
}
